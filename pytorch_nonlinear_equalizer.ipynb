{
 "cells": [
  {
   "cell_type": "markdown",
   "id": "1bf82480",
   "metadata": {},
   "source": [
    "# PyTorch: Nonlinear Equalizer"
   ]
  },
  {
   "cell_type": "code",
   "execution_count": 1,
   "id": "fe514d6f",
   "metadata": {},
   "outputs": [],
   "source": [
    "import torch\n",
    "from torch import nn\n",
    "import numpy as np\n",
    "import matplotlib.pyplot as plt"
   ]
  },
  {
   "cell_type": "markdown",
   "id": "912626bd",
   "metadata": {},
   "source": [
    "$x_i \\in \\mathcal{X} = \\{-3, -1, 1, 3\\}$ is a sequence of 4-ASK transmitted symbols. The channel introduces nonlinear effects, noise, and inter-symbol-interference (ISI).\n",
    "We wish to train a neural network that can revert the channel effects and estimate the transmitted symbols $\\hat{x_i}$ form the channel outputs $y_i$ with smallest symbols error rate (SER)."
   ]
  },
  {
   "cell_type": "markdown",
   "id": "b8c04515",
   "metadata": {},
   "source": [
    "Loading the transmitted and received samples and plotting them on histograms."
   ]
  },
  {
   "cell_type": "code",
   "execution_count": 2,
   "id": "cfd35882",
   "metadata": {},
   "outputs": [],
   "source": [
    "# Load data\n",
    "x = np.loadtxt('data/x_nleq.txt')\n",
    "y = np.loadtxt('data/y_nleq.txt')\n",
    "# Alphabet\n",
    "alphabet = np.array([-3., -1., 1., 3.])  # alphabet\n",
    "alphabet = alphabet /  np.sqrt(np.mean(np.abs(alphabet**2)))  # normalization"
   ]
  },
  {
   "cell_type": "code",
   "execution_count": 3,
   "id": "77d5713e",
   "metadata": {},
   "outputs": [
    {
     "data": {
      "image/png": "[encoded data removed]",
      "text/plain": [
       "<Figure size 432x288 with 1 Axes>"
      ]
     },
     "metadata": {
      "needs_background": "light"
     },
     "output_type": "display_data"
    },
    {
     "data": {
      "image/png": "[encoded data removed]",
      "text/plain": [
       "<Figure size 432x288 with 1 Axes>"
      ]
     },
     "metadata": {
      "needs_background": "light"
     },
     "output_type": "display_data"
    }
   ],
   "source": [
    "# Visualize your data\n",
    "plt.hist(x, bins=100, range=[-2, 2])\n",
    "plt.grid()\n",
    "plt.show()\n",
    "plt.hist(y, bins=100, range=[-2, 2], color='orange')\n",
    "plt.grid()"
   ]
  },
  {
   "cell_type": "markdown",
   "id": "08bc45da",
   "metadata": {},
   "source": [
    "Splitting the data into train and test set."
   ]
  },
  {
   "cell_type": "code",
   "execution_count": 4,
   "id": "b093a39c",
   "metadata": {},
   "outputs": [],
   "source": [
    "# Split the data into train and test\n",
    "n = 15_000\n",
    "x_train = x[0:n]\n",
    "y_train = y[0:n]\n",
    "x_test = x[n:]\n",
    "y_test = y[n:]"
   ]
  },
  {
   "cell_type": "markdown",
   "id": "188e0e9d",
   "metadata": {},
   "source": [
    "Defining the neural network equalizer. It takes the channel output $y_i$ as input and returns an estimate of the respective transmit symbol $\\hat{x_i}$."
   ]
  },
  {
   "cell_type": "code",
   "execution_count": 6,
   "id": "52a30175",
   "metadata": {},
   "outputs": [],
   "source": [
    "class NonLinearEq(nn.Module):\n",
    "    def __init__(self, taps=1, n=20): \n",
    "        super().__init__()\n",
    "        self.h1 = nn.Linear(taps,n)\n",
    "        self.act1 = nn.ReLU()\n",
    "        self.h2 = nn.Linear(n,n)\n",
    "        self.act2 = nn.ReLU()\n",
    "        self.h3 = nn.Linear(n,n)\n",
    "        self.act3 = nn.ReLU()\n",
    "        self.out = nn.Linear(n,1)\n",
    "\n",
    "    def forward(self, y):\n",
    "        y = self.act1(self.h1(y))\n",
    "        y = self.act2(self.h2(y))\n",
    "        y = self.act3(self.h3(y))\n",
    "        return self.out(y)"
   ]
  },
  {
   "cell_type": "markdown",
   "id": "9dec070c",
   "metadata": {},
   "source": [
    "Definition of NN training function."
   ]
  },
  {
   "cell_type": "code",
   "execution_count": 7,
   "id": "8ce964de",
   "metadata": {},
   "outputs": [],
   "source": [
    "def train(NeuralNetwork,dataloader,loss_function, num_epochs, lr=0.001):\n",
    "    \"\"\"\n",
    "    Performs gradient descent learning.\n",
    "    \n",
    "    NeuralNetwork = neural network to be trained\n",
    "    dataloader = DataLoader that deals batches for mini-batch learning\n",
    "    loss_function = cost function to be optimized\n",
    "    num_epochs = number of training epochs\n",
    "    lr = learning rate (default value 0.001)\n",
    "    \"\"\"\n",
    "    optimizer = torch.optim.Adam(NeuralNetwork.parameters(), lr = lr)\n",
    "    for epoch in range(num_epochs):\n",
    "        for inputs,labels in dataloader:\n",
    "            # forward propagation\n",
    "            outputs = NeuralNetwork(inputs)\n",
    "            # compute loss\n",
    "            loss = loss_function(outputs, labels)\n",
    "            # reset gradient\n",
    "            optimizer.zero_grad()\n",
    "            # backprop\n",
    "            loss.backward()\n",
    "            # update parameters\n",
    "            optimizer.step()\n",
    "\n",
    "        if (epoch % 100) == 0:\n",
    "            print('Epoch: ',epoch, 'Loss: ', loss.detach().numpy())"
   ]
  },
  {
   "cell_type": "markdown",
   "id": "96f46c21",
   "metadata": {},
   "source": [
    "Preparing the data for the training, i.e. convert the numpy array into tensor and creating a dataloader."
   ]
  },
  {
   "cell_type": "code",
   "execution_count": 8,
   "id": "82ed2b3d",
   "metadata": {},
   "outputs": [],
   "source": [
    "# convert x_D, y_D to tensors\n",
    "y_t = torch.tensor(y_train).float().reshape(-1, 1)\n",
    "x_t = torch.tensor(x_train).float().reshape(-1, 1)\n",
    "# Dataset\n",
    "dataset = torch.utils.data.TensorDataset(y_t, x_t)\n",
    "# Dataloader\n",
    "batch_size = 2000\n",
    "dataloader = torch.utils.data.DataLoader(dataset, batch_size=batch_size)"
   ]
  },
  {
   "cell_type": "markdown",
   "id": "ed456816",
   "metadata": {},
   "source": [
    "Initializing and training the network."
   ]
  },
  {
   "cell_type": "code",
   "execution_count": 9,
   "id": "8773ff2c",
   "metadata": {},
   "outputs": [
    {
     "name": "stdout",
     "output_type": "stream",
     "text": [
      "Epoch:  0 Loss:  0.42640382\n",
      "Epoch:  100 Loss:  0.2949423\n",
      "Epoch:  200 Loss:  0.2981015\n",
      "Epoch:  300 Loss:  0.29714453\n",
      "Epoch:  400 Loss:  0.2968098\n"
     ]
    }
   ],
   "source": [
    "# Initialize Network\n",
    "torch.manual_seed(0)\n",
    "eq_nl = NonLinearEq()\n",
    "# Training\n",
    "train(eq_nl,dataloader,nn.MSELoss(), 500, 0.01)"
   ]
  },
  {
   "cell_type": "markdown",
   "id": "a0a724c4",
   "metadata": {},
   "source": [
    "Displaying output of the untrained NN."
   ]
  },
  {
   "cell_type": "code",
   "execution_count": 58,
   "id": "609b5777",
   "metadata": {},
   "outputs": [
    {
     "data": {
      "image/png": "[encoded data removed]",
      "text/plain": [
       "<Figure size 432x288 with 1 Axes>"
      ]
     },
     "metadata": {
      "needs_background": "light"
     },
     "output_type": "display_data"
    }
   ],
   "source": [
    "# Visualize your results\n",
    "x_hat = eq_nl(y_t).detach().numpy()\n",
    "plt.hist(x_hat, bins=100, range=[-2, 2], color='red')\n",
    "plt.grid()"
   ]
  },
  {
   "cell_type": "markdown",
   "id": "68307788",
   "metadata": {},
   "source": [
    "Definition of hard-decision demapping function. Given the values from $\\boldsymbol{y}$ or $\\boldsymbol{\\hat{x}}$ it returns the closest value from the alphabet."
   ]
  },
  {
   "cell_type": "code",
   "execution_count": 59,
   "id": "0ff8da70",
   "metadata": {},
   "outputs": [],
   "source": [
    "def hard_demapper(msg, alphabet):\n",
    "    idxs = np.argmin(np.abs(msg.reshape(-1,1)-alphabet), axis=1)\n",
    "    hard_decision = alphabet[idxs]\n",
    "    return hard_decision"
   ]
  },
  {
   "cell_type": "code",
   "execution_count": 60,
   "id": "68c18b21",
   "metadata": {},
   "outputs": [
    {
     "name": "stdout",
     "output_type": "stream",
     "text": [
      "SER before equalization: 0.38\n",
      "SER after equalization: 0.38\n"
     ]
    }
   ],
   "source": [
    "# SER\n",
    "hard_y = hard_demapper(y_train, alphabet)\n",
    "hard_xhat = hard_demapper(x_hat, alphabet)\n",
    "print(f'SER before equalization: {sum(x_train!=hard_y)/x_train.size:.2f}')\n",
    "print(f'SER after equalization: {sum(x_train!=hard_xhat)/x_train.size:.2f}')"
   ]
  },
  {
   "cell_type": "code",
   "execution_count": 61,
   "id": "d0519864",
   "metadata": {},
   "outputs": [
    {
     "name": "stdout",
     "output_type": "stream",
     "text": [
      "SER before equalization: 0.37\n",
      "SER after equalization: 0.39\n"
     ]
    }
   ],
   "source": [
    "# Test dataset\n",
    "hard_y_test = hard_demapper(y_test, alphabet)\n",
    "print(f'SER before equalization: {sum(x_test!=hard_y_test)/x_test.size:.2f}')\n",
    "y_t_test = torch.tensor(y_test.T).float().reshape(-1, 1)\n",
    "x_hat_test = eq_nl(y_t_test).detach().numpy()\n",
    "hard_xhat_test = hard_demapper(x_hat_test, alphabet)\n",
    "print(f'SER after equalization: {sum(x_test!=hard_xhat_test)/x_test.size:.2f}')"
   ]
  },
  {
   "cell_type": "markdown",
   "id": "c77465a8",
   "metadata": {},
   "source": [
    "The channel under study causes ISI. Therefore we need an equalizer that does not only take one channel output $y_i$ to calculate $\\hat{x_i}$ but we need a number $t$ of channel taps $y_{i-\\frac{t}{2}} \\dots y_i \\dots y_{i+\\frac{t}{2}}$. \n",
    "\n",
    "The channel taps will enter the equalizer in a sliding window fashion.\n",
    "In order to do so  write a function `getchunks(y, num\\_taps)` that transforms your input tensor $\\boldsymbol{y}$ from a size $[n,1]$ to size $[n, t]$, where t is the number of taps. \n",
    "Each row contains $t$ channel taps and the current symbol sits in the middle. The following row is a shift of the previous one (use `torch.roll`)."
   ]
  },
  {
   "cell_type": "code",
   "execution_count": 62,
   "id": "956aca10",
   "metadata": {},
   "outputs": [],
   "source": [
    "def getchunks(x, num_taps=17):\n",
    "    x = x.reshape(-1, 1)\n",
    "    chunks = torch.zeros(x.shape[0], num_taps)\n",
    "    for j in range(num_taps):\n",
    "        chunks[:, j:j+1] = torch.roll(x, j - num_taps//2)\n",
    "    return chunks"
   ]
  },
  {
   "cell_type": "markdown",
   "id": "82b7565d",
   "metadata": {},
   "source": [
    "Repeating the previous steps using the \\textit{getchunks(y, num\\_taps)} function and modifying the neural network such that it takes as input $t$ channel outputs."
   ]
  },
  {
   "cell_type": "code",
   "execution_count": 63,
   "id": "5e312780",
   "metadata": {},
   "outputs": [],
   "source": [
    "# Initialize Network\n",
    "taps = 17\n",
    "eq_nl_taps = NonLinearEq(taps)\n",
    "# convert x_D, y_D to tensors\n",
    "y_t = torch.tensor(y_train.T).float().reshape(-1, 1)\n",
    "x_t = torch.tensor(x_train.T).float().reshape(-1, 1)\n",
    "# Dataset\n",
    "dataset = torch.utils.data.TensorDataset(getchunks(y_t), x_t)\n",
    "# Dataloader\n",
    "batch_size = 5000\n",
    "dataloader = torch.utils.data.DataLoader(dataset, batch_size=batch_size)"
   ]
  },
  {
   "cell_type": "code",
   "execution_count": 64,
   "id": "0a1981d8",
   "metadata": {},
   "outputs": [
    {
     "name": "stdout",
     "output_type": "stream",
     "text": [
      "Epoch:  0 Loss:  0.9402796\n",
      "Epoch:  100 Loss:  0.082511276\n",
      "Epoch:  200 Loss:  0.0744882\n",
      "Epoch:  300 Loss:  0.069748364\n",
      "Epoch:  400 Loss:  0.0689169\n"
     ]
    }
   ],
   "source": [
    "train(eq_nl_taps,dataloader,nn.MSELoss(), 500, 0.01)"
   ]
  },
  {
   "cell_type": "code",
   "execution_count": 65,
   "id": "00b917ea",
   "metadata": {},
   "outputs": [
    {
     "data": {
      "image/png": "[encoded data removed]",
      "text/plain": [
       "<Figure size 432x288 with 1 Axes>"
      ]
     },
     "metadata": {
      "needs_background": "light"
     },
     "output_type": "display_data"
    }
   ],
   "source": [
    "# Visualize your results\n",
    "x_hat = eq_nl_taps(getchunks(y_t)).detach().numpy()\n",
    "plt.hist(x_hat, bins=100, range=[-2, 2], color='red')\n",
    "plt.grid()"
   ]
  },
  {
   "cell_type": "code",
   "execution_count": 66,
   "id": "8ff3ae17",
   "metadata": {},
   "outputs": [
    {
     "name": "stdout",
     "output_type": "stream",
     "text": [
      "SER before equalization: 0.38\n",
      "SER after equalization: 0.11\n"
     ]
    }
   ],
   "source": [
    "# SER\n",
    "hard_xhat = hard_demapper(x_hat, alphabet)\n",
    "print(f'SER before equalization: {sum(x_train!=hard_y)/x_train.size:.2f}')\n",
    "print(f'SER after equalization: {sum(x_train!=hard_xhat)/x_train.size:.2f}')"
   ]
  },
  {
   "cell_type": "code",
   "execution_count": 67,
   "id": "7532c722",
   "metadata": {},
   "outputs": [
    {
     "name": "stdout",
     "output_type": "stream",
     "text": [
      "SER before equalization: 0.37\n",
      "SER after equalization: 0.15\n"
     ]
    }
   ],
   "source": [
    "# Test dataset\n",
    "x_hat_test = eq_nl_taps(getchunks(y_t_test)).detach().numpy()\n",
    "hard_xhat_test = hard_demapper(x_hat_test, alphabet)\n",
    "print(f'SER before equalization: {sum(x_test!=hard_y_test)/x_test.size:.2f}')\n",
    "print(f'SER after equalization: {sum(x_test!=hard_xhat_test)/x_test.size:.2f}')"
   ]
  },
  {
   "cell_type": "code",
   "execution_count": null,
   "id": "d6b87d1f",
   "metadata": {},
   "outputs": [],
   "source": []
  }
 ],
 "metadata": {
  "kernelspec": {
   "display_name": "Python 3 (ipykernel)",
   "language": "python",
   "name": "python3"
  },
  "language_info": {
   "codemirror_mode": {
    "name": "ipython",
    "version": 3
   },
   "file_extension": ".py",
   "mimetype": "text/x-python",
   "name": "python",
   "nbconvert_exporter": "python",
   "pygments_lexer": "ipython3",
   "version": "3.9.2"
  }
 },
 "nbformat": 4,
 "nbformat_minor": 5
}
