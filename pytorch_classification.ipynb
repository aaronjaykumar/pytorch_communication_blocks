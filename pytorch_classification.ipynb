{
 "cells": [
  {
   "cell_type": "markdown",
   "metadata": {},
   "source": [
    "# PyTorch: Classification"
   ]
  },
  {
   "cell_type": "markdown",
   "metadata": {},
   "source": [
    "This notebook uses pytorch to solve a binary classification problem. `data/x_class.txt` contains the inputs and `data/y_class.txt` contains the labels."
   ]
  },
  {
   "cell_type": "markdown",
   "metadata": {},
   "source": [
    "Importing the relevant modules."
   ]
  },
  {
   "cell_type": "code",
   "execution_count": null,
   "metadata": {},
   "outputs": [],
   "source": [
    "import numpy as np\n",
    "import matplotlib.pyplot as plt\n",
    "import torch\n",
    "from torch import nn"
   ]
  },
  {
   "cell_type": "markdown",
   "metadata": {},
   "source": [
    "Loading data from `x_class.txt` and `y_class.txt` and creating two numpy arrays, `x` and `y`, containing the respective data. "
   ]
  },
  {
   "cell_type": "code",
   "execution_count": null,
   "metadata": {},
   "outputs": [],
   "source": [
    "# load data\n",
    "x = np.loadtxt('data/x_class.txt')\n",
    "y = np.loadtxt('data/y_class.txt')"
   ]
  },
  {
   "cell_type": "markdown",
   "metadata": {},
   "source": [
    "Scatter plot of x values with different colours for the values labelled with 0 and the ones labelled with 1."
   ]
  },
  {
   "cell_type": "code",
   "execution_count": null,
   "metadata": {},
   "outputs": [
    {
     "data": {
      "image/png": "[encoded data removed]",
      "text/plain": [
       "<Figure size 432x288 with 1 Axes>"
      ]
     },
     "metadata": {},
     "output_type": "display_data"
    }
   ],
   "source": [
    "# Visualize data\n",
    "plt.scatter(x[0,y==1], x[1,y==1])\n",
    "plt.scatter(x[0,y==0], x[1,y==0])\n",
    "plt.axis('equal')\n",
    "plt.grid()"
   ]
  },
  {
   "cell_type": "markdown",
   "metadata": {},
   "source": [
    "Converting the data to `torch.tensors` and create a suitable `DataLoader` object"
   ]
  },
  {
   "cell_type": "code",
   "execution_count": null,
   "metadata": {},
   "outputs": [],
   "source": [
    "# convert x, y to tensors\n",
    "y_t = torch.tensor(y).float().reshape(-1,1)\n",
    "x_t = torch.t(torch.tensor(x).float())\n",
    "# build a data set\n",
    "batch_size = 30\n",
    "dataloader_LogReg = torch.utils.data.DataLoader(torch.utils.data.TensorDataset(x_t,y_t),\n",
    "                                                batch_size = batch_size)"
   ]
  },
  {
   "cell_type": "markdown",
   "metadata": {},
   "source": [
    "Defining the NN."
   ]
  },
  {
   "cell_type": "code",
   "execution_count": null,
   "metadata": {},
   "outputs": [],
   "source": [
    "class Net_LogReg(nn.Module):\n",
    "    \"\"\"\n",
    "    Neural Network with inputs:\n",
    "    layer_sizes = tuple specifying the number of neurons in each layer\n",
    "    act_hid = activation function at the hidden layers\n",
    "    act_out = activation function at the output\n",
    "    \"\"\"\n",
    "    # initialize the network and define all learnable parameters\n",
    "    def __init__(self, layer_sizes, act_hid, act_out): #, act_hid, act_out):\n",
    "        super(Net_LogReg, self).__init__()\n",
    "        self.L = len(layer_sizes)\n",
    "        self.layers = nn.ModuleList() # initialize empty module list\n",
    "        self.act_hid = act_hid\n",
    "        self.act_out = act_out\n",
    "        for k in range(len(layer_sizes) - 1):\n",
    "            self.layers.append(nn.Linear(layer_sizes[k], layer_sizes[k+1]))\n",
    "\n",
    "# define the forward pass\n",
    "    def forward(self, x):\n",
    "        for k in range(self.L - 2):\n",
    "            x = self.act_hid(self.layers[k](x))\n",
    "        x = self.act_out(self.layers[self.L - 2](x))\n",
    "        return x"
   ]
  },
  {
   "cell_type": "code",
   "execution_count": null,
   "metadata": {},
   "outputs": [],
   "source": [
    "# Initialize the model\n",
    "torch.manual_seed(1)\n",
    "net = Net_LogReg((2,10,10,1), nn.ReLU(), torch.sigmoid)    "
   ]
  },
  {
   "cell_type": "code",
   "execution_count": null,
   "metadata": {},
   "outputs": [],
   "source": [
    "def train(NeuralNetwork,dataloader,loss_function, num_epochs, lr=0.001):\n",
    "    \"\"\"\n",
    "    NeuralNetwork = neural network to be trained\n",
    "    dataloader = DataLoader that deals batches for mini-batch learning\n",
    "    loss_function = cost function to be optimized\n",
    "    num_epochs = number of training epochs\n",
    "    lr = learning rate (default value 0.001)\n",
    "    \"\"\"\n",
    "    optimizer = torch.optim.SGD(NeuralNetwork.parameters(), lr = lr)\n",
    "    for epoch in range(num_epochs):\n",
    "        for inputs,labels in dataloader:\n",
    "            # forward propagation\n",
    "            outputs = NeuralNetwork(inputs)\n",
    "            # compute loss\n",
    "            loss = loss_function(outputs, labels)\n",
    "            # reset gradient\n",
    "            optimizer.zero_grad()\n",
    "            # backprop\n",
    "            loss.backward()\n",
    "            # update parameters\n",
    "            optimizer.step()\n",
    "\n",
    "        if (epoch % 1000) == 0:\n",
    "            print('Epoch: ',epoch, 'Loss: ', loss.detach().numpy())\n",
    "    "
   ]
  },
  {
   "cell_type": "code",
   "execution_count": null,
   "metadata": {},
   "outputs": [
    {
     "name": "stdout",
     "output_type": "stream",
     "text": [
      "Epoch:  0 Loss:  0.6960558\n",
      "Epoch:  1000 Loss:  0.4720264\n",
      "Epoch:  2000 Loss:  0.36488137\n",
      "Epoch:  3000 Loss:  0.30763003\n",
      "Epoch:  4000 Loss:  0.27728003\n",
      "Epoch:  5000 Loss:  0.26041067\n",
      "Epoch:  6000 Loss:  0.24754575\n",
      "Epoch:  7000 Loss:  0.23945145\n",
      "Epoch:  8000 Loss:  0.2322062\n",
      "Epoch:  9000 Loss:  0.22594447\n"
     ]
    }
   ],
   "source": [
    "# training\n",
    "train(net, dataloader_LogReg,nn.BCELoss(),10000, 0.003)"
   ]
  },
  {
   "cell_type": "code",
   "execution_count": null,
   "metadata": {},
   "outputs": [],
   "source": [
    "def plot_decision_boundary_torch(x, y, net):\n",
    "    h = 0.05\n",
    "    x0_min, x0_max = x[0,:].min() - 1, x[0,:].max() + 1\n",
    "    x1_min, x1_max = x[1,:].min() - 1, x[1,:].max() + 1\n",
    "    x0_grid, x1_grid = np.meshgrid(np.arange(x0_min, x0_max, h), np.arange(x1_min, x1_max, h))                   \n",
    "    xx = torch.tensor(np.hstack([x0_grid.reshape((-1,1)),x1_grid.reshape((-1,1))])).float()   \n",
    "    a = net(xx).detach().numpy().reshape(x0_grid.shape)\n",
    "    plt.contour(x0_grid, x1_grid, a, [0.5], colors=('k',))      "
   ]
  },
  {
   "cell_type": "code",
   "execution_count": null,
   "metadata": {},
   "outputs": [
    {
     "data": {
      "image/png": "[encoded data removed]",
      "text/plain": [
       "<Figure size 432x288 with 1 Axes>"
      ]
     },
     "metadata": {},
     "output_type": "display_data"
    }
   ],
   "source": [
    "# Plot\n",
    "plot_decision_boundary_torch(x, y, net)\n",
    "# Visualize data\n",
    "plt.scatter(x[0,y==1], x[1,y==1])\n",
    "plt.scatter(x[0,y==0], x[1,y==0])\n",
    "plt.axis('equal')\n",
    "plt.grid()"
   ]
  }
 ],
 "metadata": {
  "language_info": {
   "name": "python"
  }
 },
 "nbformat": 4,
 "nbformat_minor": 2
}
