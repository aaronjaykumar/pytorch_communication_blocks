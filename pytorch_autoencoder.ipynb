{
 "cells": [
  {
   "cell_type": "markdown",
   "id": "73fc970c",
   "metadata": {},
   "source": [
    "# PyTorch: Autoencoder"
   ]
  },
  {
   "cell_type": "markdown",
   "id": "271ce3f2",
   "metadata": {},
   "source": [
    "We consider the communication system depicted in the problem assignement.\n",
    "\n",
    "$A \\in \\{0,1,\\dots ,7\\}$ with uniform distribution, $X \\in \\mathcal{X}$ are symbol from a 8-ASK constellation and $Z$ is additive white Gaussian noise with power $\\sigma^2 = 0.01$.\n",
    "Tanh is a nonlinear function which distort the transmit signal, it simulates the effect of an amplifier.\n",
    "\n",
    "An autoencoder is used instead of the mapper and demapper. \n",
    "This enables us to find an optimal constellation $\\mathcal{X}$ tailor to this specific channel.\n"
   ]
  },
  {
   "cell_type": "code",
   "execution_count": 1,
   "id": "f641b188",
   "metadata": {},
   "outputs": [],
   "source": [
    "import numpy as np\n",
    "import matplotlib.pyplot as plt\n",
    "import torch            \n",
    "from torch import nn, optim"
   ]
  },
  {
   "cell_type": "markdown",
   "id": "d543f2fb",
   "metadata": {},
   "source": [
    "Function that realizes the nonlinear function tanh and the additive noise."
   ]
  },
  {
   "cell_type": "code",
   "execution_count": 2,
   "id": "5de53bf8",
   "metadata": {},
   "outputs": [],
   "source": [
    "# Channel \n",
    "def tanh_channel(x, sigma2, seed=None):\n",
    "    noise_t = sigma2*torch.randn(len(x),1)\n",
    "    return torch.tanh(x) + noise_t"
   ]
  },
  {
   "cell_type": "markdown",
   "id": "a1914e5b",
   "metadata": {},
   "source": [
    "Creating a dataset of $n=10 000$ samples of indices $a_i$, maping them into transmit symbols $x_i$ and transmitting them over the channel to obtain $y_i$."
   ]
  },
  {
   "cell_type": "code",
   "execution_count": 6,
   "id": "acd54230",
   "metadata": {},
   "outputs": [],
   "source": [
    "# Data\n",
    "# Alphabet\n",
    "alphabet = np.array([-7., -5., -3., -1., 1., 3., 5., 7.])  # alphabet\n",
    "alphabet = alphabet /  np.sqrt(np.mean(np.abs(alphabet**2)))  # normalization\n",
    "n = 10_000  # number of samples\n",
    "M = 8  # constellation size\n",
    "sigma2 = 0.06  # noise power\n",
    "# Indices\n",
    "a = np.random.choice(range(M), size=n)\n",
    "a_t = torch.tensor(a)\n",
    "a_t = a_t.type(torch.LongTensor)\n",
    "# Transmit symbols \n",
    "x = alphabet[a]\n",
    "x_t = torch.tensor(x).float().reshape(-1,1)\n",
    "# Received symbols\n",
    "y_t = tanh_channel(x_t, sigma2)\n",
    "y = y_t.detach().numpy()"
   ]
  },
  {
   "cell_type": "code",
   "execution_count": 7,
   "id": "0da4d9a7",
   "metadata": {},
   "outputs": [
    {
     "data": {
      "image/png": "[encoded data removed]",
      "text/plain": [
       "<Figure size 432x288 with 1 Axes>"
      ]
     },
     "metadata": {
      "needs_background": "light"
     },
     "output_type": "display_data"
    },
    {
     "data": {
      "image/png": "[encoded data removed]",
      "text/plain": [
       "<Figure size 432x288 with 1 Axes>"
      ]
     },
     "metadata": {
      "needs_background": "light"
     },
     "output_type": "display_data"
    }
   ],
   "source": [
    "# Visualize your data\n",
    "plt.hist(x, bins=100, range=[-2, 2])\n",
    "plt.grid()\n",
    "plt.show()\n",
    "plt.hist(y, bins=100, range=[-2, 2], color = 'orange')\n",
    "plt.grid()\n",
    "plt.show()"
   ]
  },
  {
   "cell_type": "markdown",
   "id": "666ab662",
   "metadata": {},
   "source": [
    "Defining the neural network demapper. \n",
    "The demapper takes as input the real valued channel output  $y_i$ and returns an array of values which represents the log-probabilities that the current channel output belongs to each constellation symbol. Basically it does an s multi-class classification."
   ]
  },
  {
   "cell_type": "code",
   "execution_count": 9,
   "id": "38508c8b",
   "metadata": {},
   "outputs": [],
   "source": [
    "# Define a demapper Neural Network\n",
    "class DemapperNN(nn.Module):\n",
    "    def __init__(self, M):\n",
    "        super().__init__()\n",
    "        self.lin1 = nn.Linear(1, M)\n",
    "\n",
    "    def forward(self, y):\n",
    "        y = self.lin1(y)\n",
    "        return y "
   ]
  },
  {
   "cell_type": "markdown",
   "id": "55b86775",
   "metadata": {},
   "source": [
    "Training the network using $a_i$ as labels and the cross entropy loss function."
   ]
  },
  {
   "cell_type": "code",
   "execution_count": 10,
   "id": "e6f8b55b",
   "metadata": {},
   "outputs": [],
   "source": [
    "# Initialize network\n",
    "rx = DemapperNN(M)\n",
    "# Loss function\n",
    "loss_fn = nn.CrossEntropyLoss()\n",
    "# Optimizer\n",
    "optimizer = optim.Adam(rx.parameters(), lr=0.01)\n",
    "# Epochs\n",
    "num_epochs = 10_000"
   ]
  },
  {
   "cell_type": "code",
   "execution_count": 11,
   "id": "6fc42cdb",
   "metadata": {},
   "outputs": [
    {
     "name": "stdout",
     "output_type": "stream",
     "text": [
      "epoch 0: Loss = 2.1414\n",
      "epoch 1000: Loss = 1.1000\n",
      "epoch 2000: Loss = 0.8898\n",
      "epoch 3000: Loss = 0.7521\n",
      "epoch 4000: Loss = 0.6466\n",
      "epoch 5000: Loss = 0.5613\n",
      "epoch 6000: Loss = 0.4916\n",
      "epoch 7000: Loss = 0.4348\n",
      "epoch 8000: Loss = 0.3892\n",
      "epoch 9000: Loss = 0.3528\n"
     ]
    }
   ],
   "source": [
    "# Training loop\n",
    "for j in range(num_epochs):\n",
    "    # Receiver\n",
    "    l = rx(y_t)\n",
    "    # Loss\n",
    "    loss = loss_fn(l, a_t)\n",
    "    # Calculate gradient and weights update\n",
    "    optimizer.zero_grad()\n",
    "    loss.backward()\n",
    "    optimizer.step()\n",
    "\n",
    "    # Printout and visualization\n",
    "    if j % 1000 == 0:\n",
    "        print(f'epoch {j}: Loss = {loss.detach().numpy() :.4f}')\n",
    "    if loss < 1e-3:\n",
    "        break"
   ]
  },
  {
   "cell_type": "markdown",
   "id": "d9fcfe30",
   "metadata": {},
   "source": [
    "Hard decision on the output of your network using a new dataset and evaluating the SER."
   ]
  },
  {
   "cell_type": "code",
   "execution_count": 12,
   "id": "53f5f899",
   "metadata": {},
   "outputs": [],
   "source": [
    "# New Dataset\n",
    "a_test = np.random.choice(range(M), size=n)\n",
    "# Transmit symbols \n",
    "x_test = alphabet[a_test]\n",
    "x_test_t = torch.tensor(x_test).float().reshape(-1,1)\n",
    "# Received symbols\n",
    "y_test_t = tanh_channel(x_test_t, sigma2)\n",
    "# Demapper\n",
    "l_test = rx(y_test_t)"
   ]
  },
  {
   "cell_type": "code",
   "execution_count": 13,
   "id": "b529cdb9",
   "metadata": {},
   "outputs": [
    {
     "name": "stdout",
     "output_type": "stream",
     "text": [
      "SER: 0.10250000000000191\n"
     ]
    }
   ],
   "source": [
    "# Hard decision\n",
    "hd = np.argmax(l_test.detach().numpy(), axis=1)\n",
    "print(f'SER: {sum((a_test!=hd)/a_test.size)}')"
   ]
  },
  {
   "cell_type": "markdown",
   "id": "289359da",
   "metadata": {},
   "source": [
    "Function that implements one-hot encoding."
   ]
  },
  {
   "cell_type": "code",
   "execution_count": 14,
   "id": "38ae1ffd",
   "metadata": {},
   "outputs": [],
   "source": [
    "def one_hot(a, M):\n",
    "    onehot = np.zeros(M)\n",
    "    onehot[a] = 1\n",
    "    return onehot"
   ]
  },
  {
   "cell_type": "markdown",
   "id": "5d186c46",
   "metadata": {},
   "source": [
    "Definition of second neural network for the mapper.\n",
    "The mapper takes as input the one-hot representation of the message and output a real valued symbol to be transmitted over the channel."
   ]
  },
  {
   "cell_type": "code",
   "execution_count": 15,
   "id": "bbb74d1e",
   "metadata": {},
   "outputs": [],
   "source": [
    "# Mapper NN\n",
    "class MapperNN(nn.Module):\n",
    "    def __init__(self, M):\n",
    "        super().__init__()\n",
    "        self.lin1 = nn.Linear(M, 1)\n",
    "\n",
    "    def forward(self, y):\n",
    "        y = self.lin1(y)\n",
    "        return y   "
   ]
  },
  {
   "cell_type": "markdown",
   "id": "4b07820e",
   "metadata": {},
   "source": [
    "Training the mapper and demapper neural networks using the messages $a_i$ as labels and the cross entropy loss function."
   ]
  },
  {
   "cell_type": "code",
   "execution_count": 16,
   "id": "2e182089",
   "metadata": {},
   "outputs": [],
   "source": [
    "# Data\n",
    "onehot = np.array([one_hot(a[i], M) for i in range(n)])\n",
    "onehot_t = torch.tensor(onehot).float()"
   ]
  },
  {
   "cell_type": "code",
   "execution_count": 17,
   "id": "7d387a11",
   "metadata": {},
   "outputs": [],
   "source": [
    "# Initialize network\n",
    "tx = MapperNN(M)\n",
    "# Optimizer\n",
    "optimizer = optim.Adam(list(tx.parameters()) + list(rx.parameters()), lr=0.01)"
   ]
  },
  {
   "cell_type": "code",
   "execution_count": 18,
   "id": "3ea14966",
   "metadata": {},
   "outputs": [
    {
     "name": "stdout",
     "output_type": "stream",
     "text": [
      "epoch 0: Loss = 22.7629\n",
      "epoch 1000: Loss = 0.2492\n",
      "epoch 2000: Loss = 0.2092\n",
      "epoch 3000: Loss = 0.1884\n",
      "epoch 4000: Loss = 0.1743\n",
      "epoch 5000: Loss = 0.1601\n",
      "epoch 6000: Loss = 0.1463\n",
      "epoch 7000: Loss = 0.1288\n",
      "epoch 8000: Loss = 0.1168\n",
      "epoch 9000: Loss = 0.1035\n"
     ]
    }
   ],
   "source": [
    "# Training loop\n",
    "for j in range(num_epochs):\n",
    "    # Transmitter\n",
    "    x = tx(onehot_t)\n",
    "    # Channel\n",
    "    y = tanh_channel(x, sigma2).float()\n",
    "    # Receiver\n",
    "    l = rx(y)\n",
    "    # Loss\n",
    "    loss = loss_fn(l, a_t)\n",
    "    # Calculate gradient and weights update\n",
    "    optimizer.zero_grad()\n",
    "    loss.backward()\n",
    "    optimizer.step()\n",
    "\n",
    "    # Printout and visualization\n",
    "    if j % 1000 == 0:\n",
    "        print(f'epoch {j}: Loss = {loss.detach().numpy() :.4f}')\n",
    "    if loss < 1e-3:\n",
    "        break"
   ]
  },
  {
   "cell_type": "markdown",
   "id": "ba808f19",
   "metadata": {},
   "source": [
    "Plotting results and evaluating the SER."
   ]
  },
  {
   "cell_type": "code",
   "execution_count": 19,
   "id": "2d6cd359",
   "metadata": {},
   "outputs": [],
   "source": [
    "# Data for the plots\n",
    "a_plot = np.arange(M)\n",
    "onehot_plot = np.array([one_hot(a_plot[i], M) for i in range(M)])\n",
    "learned_x = tx(torch.tensor(onehot_plot).float())\n",
    "yy_plot = torch.tanh(learned_x)"
   ]
  },
  {
   "cell_type": "code",
   "execution_count": 20,
   "id": "b2e22605",
   "metadata": {},
   "outputs": [
    {
     "data": {
      "image/png": "[encoded data removed]",
      "text/plain": [
       "<Figure size 432x288 with 1 Axes>"
      ]
     },
     "metadata": {
      "needs_background": "light"
     },
     "output_type": "display_data"
    },
    {
     "data": {
      "image/png": "[encoded data removed]",
      "text/plain": [
       "<Figure size 432x288 with 1 Axes>"
      ]
     },
     "metadata": {
      "needs_background": "light"
     },
     "output_type": "display_data"
    }
   ],
   "source": [
    "# Plot the learned constellation before and after a tanh function\n",
    "plt.scatter(np.real(learned_x.detach().numpy()), np.imag(learned_x.detach().numpy()))\n",
    "plt.title('Learned constellation')\n",
    "plt.grid()\n",
    "plt.show()\n",
    "plt.scatter(np.real(yy_plot.detach().numpy()), np.imag(yy_plot.detach().numpy()))\n",
    "plt.title('Constellation after tanh')\n",
    "plt.grid()"
   ]
  },
  {
   "cell_type": "code",
   "execution_count": 21,
   "id": "eefb4a18",
   "metadata": {},
   "outputs": [
    {
     "data": {
      "image/png": "[encoded data removed]",
      "text/plain": [
       "<Figure size 432x288 with 1 Axes>"
      ]
     },
     "metadata": {
      "needs_background": "light"
     },
     "output_type": "display_data"
    }
   ],
   "source": [
    "# Histogram of the received symbols\n",
    "plt.hist(y.detach().numpy(), bins=100, range=[-2, 2], color = 'orange')\n",
    "plt.grid()\n",
    "plt.show()"
   ]
  },
  {
   "cell_type": "code",
   "execution_count": 22,
   "id": "752acc52",
   "metadata": {},
   "outputs": [],
   "source": [
    "# New Dataset\n",
    "onehot_test = np.array([one_hot(a_test[i], M) for i in range(n)])\n",
    "# Transmitter\n",
    "x_test = tx(torch.tensor(onehot_test).float())\n",
    "# Channel\n",
    "y_test = tanh_channel(x_test, sigma2).float()\n",
    "# Receiver\n",
    "l_test = rx(y_test)\n",
    "# Hard decision\n",
    "hd = np.argmax(l_test.detach().numpy(), axis=1)"
   ]
  },
  {
   "cell_type": "code",
   "execution_count": 23,
   "id": "2a2f6a84",
   "metadata": {},
   "outputs": [
    {
     "name": "stdout",
     "output_type": "stream",
     "text": [
      "SER: 0.01739999999999995\n"
     ]
    }
   ],
   "source": [
    "print(f'SER: {sum((a_test!=hd)/a_test.size)}')"
   ]
  }
 ],
 "metadata": {
  "kernelspec": {
   "display_name": "Python 3 (ipykernel)",
   "language": "python",
   "name": "python3"
  },
  "language_info": {
   "codemirror_mode": {
    "name": "ipython",
    "version": 3
   },
   "file_extension": ".py",
   "mimetype": "text/x-python",
   "name": "python",
   "nbconvert_exporter": "python",
   "pygments_lexer": "ipython3",
   "version": "3.9.2"
  }
 },
 "nbformat": 4,
 "nbformat_minor": 5
}
